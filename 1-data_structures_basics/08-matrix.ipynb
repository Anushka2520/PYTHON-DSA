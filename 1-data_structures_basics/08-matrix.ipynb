{
 "cells": [
  {
   "cell_type": "markdown",
   "metadata": {},
   "source": [
    "# Multidimensional Arrays in Python\n",
    "\n",
    "- multidimensional lists are the lists within lists.\n",
    "  - eg. `[[1, 2, 3], [4, 5, 6]]`\n",
    "- a list can hold other lists, that basic principle can be applied over and over.\n",
    "- 2D arrays are used in Dynamic Programming, Graphs, etc.\n",
    "\n",
    "> **Note:** Usually, a dictionary will be the better choice rather than a multi-dimensional list in Python."
   ]
  },
  {
   "cell_type": "code",
   "execution_count": 7,
   "metadata": {},
   "outputs": [
    {
     "name": "stdout",
     "output_type": "stream",
     "text": [
      "1 2 3 \n",
      "4 5 6 \n",
      "number of rows:  2\n",
      "count in row 1:  3\n",
      "count in row 2:  3\n"
     ]
    }
   ],
   "source": [
    "arr = [[1, 2, 3], [4, 5, 6]]\n",
    "\n",
    "for r in arr:\n",
    "  for x in r:\n",
    "    print(x, end=' ')\n",
    "  print()\n",
    "  \n",
    "print(\"number of rows: \", len(arr))\n",
    "print(\"count in row 1: \", len(arr[0]))\n",
    "print(\"count in row 2: \", len(arr[1]))\n"
   ]
  },
  {
   "cell_type": "markdown",
   "metadata": {},
   "source": [
    "- alternate way to traverse a 2D array\n",
    "- useful when position of every item is to be accessed `arr[i][j]`\n",
    "  - `i` is the row number\n",
    "  - `j` is the column number"
   ]
  },
  {
   "cell_type": "code",
   "execution_count": 9,
   "metadata": {},
   "outputs": [
    {
     "name": "stdout",
     "output_type": "stream",
     "text": [
      "1 2 3 \n",
      "4 5 6 7 8 \n"
     ]
    }
   ],
   "source": [
    "arr = [[1, 2, 3], [4, 5, 6, 7, 8]]\n",
    "\n",
    "for i in range(len(arr)):\n",
    "  for j in range(len(arr[i])):\n",
    "    print(arr[i][j], end=' ')\n",
    "  print()\n"
   ]
  },
  {
   "cell_type": "markdown",
   "metadata": {},
   "source": [
    "## Create matrix of user specified dimensions"
   ]
  },
  {
   "cell_type": "code",
   "execution_count": 11,
   "metadata": {},
   "outputs": [
    {
     "name": "stdout",
     "output_type": "stream",
     "text": [
      "[1, 0, 0, 0]\n",
      "[1, 0, 0, 0]\n",
      "[1, 0, 0, 0]\n",
      "\n",
      "[1, 0, 0, 0]\n",
      "[0, 0, 0, 0]\n",
      "[0, 0, 0, 0]\n"
     ]
    }
   ],
   "source": [
    "rows = 3\n",
    "cols = 4\n",
    "\n",
    "# not a recommended way to create 2D array in python (see output)\n",
    "arr = [[0] * cols] * rows\n",
    "arr[0][0] = 1\n",
    "for r in arr:\n",
    "  print(r)\n",
    "\n",
    "print()\n",
    "\n",
    "# recommended way to create 2D array in python\n",
    "arr = [[0 for i in range(cols)] for j in range(rows)]\n",
    "arr[0][0] = 1\n",
    "for r in arr:\n",
    "  print(r)"
   ]
  },
  {
   "cell_type": "markdown",
   "metadata": {},
   "source": [
    "> **Note:** Python's internal memory optimization python uses same memory location for all rows for the earlier example.\n",
    "\n",
    "When you use the multiplication operator (`*`) to create a list of lists in Python, such as with `[[0] * cols] * rows`, you're not creating distinct inner lists for each row. Instead, you're creating multiple references to the same inner list. \n",
    "\n",
    "Here's a step-by-step explanation:\n",
    "\n",
    "1. `[[0] * cols]` creates a single list containing one list, which has `cols` number of zeroes.\n",
    "2. Multiplying this list by `rows` with `[[0] * cols] * rows` replicates the reference to that single inner list `rows` times.\n",
    "\n",
    "So, instead of having `rows` number of distinct inner lists, you have a list where each element is a reference to the same inner list. Therefore, modifying one element of one \"row\" modifies the corresponding element in all \"rows\" because they are all references to the same list in memory.\n",
    "\n",
    "Here's an illustration:\n",
    "\n",
    "```python\n",
    "inner_list = [0] * cols\n",
    "arr = [inner_list] * rows\n",
    "```\n",
    "\n",
    "In this code, `arr` will be a list of `rows` references to `inner_list`.\n",
    "\n",
    "To create a 2D array with distinct inner lists, you should use a list comprehension:\n",
    "\n",
    "```python\n",
    "arr = [[0] * cols for _ in range(rows)]\n",
    "```\n",
    "\n",
    "In this case:\n",
    "\n",
    "1. The list comprehension `[0] * cols` is executed `rows` times.\n",
    "2. Each execution creates a new inner list.\n",
    "3. The outer list is a list of these distinct inner lists.\n",
    "\n",
    "So, each row in the resulting `arr` is a separate list in memory, and modifying one element in one row does not affect the others."
   ]
  },
  {
   "cell_type": "markdown",
   "metadata": {},
   "source": [
    "## Passing a 2D array as argument in python"
   ]
  },
  {
   "cell_type": "code",
   "execution_count": 12,
   "metadata": {},
   "outputs": [
    {
     "name": "stdout",
     "output_type": "stream",
     "text": [
      "10 20 \n",
      "30 40 \n",
      "50 60 \n"
     ]
    }
   ],
   "source": [
    "def printMatrix(mat):\n",
    "  M = len(mat)\n",
    "  N = len(mat[0])\n",
    "  for i in range(M):\n",
    "    for j in range(N):\n",
    "      print(mat[i][j], end=' ')\n",
    "    print()\n",
    "\n",
    "\n",
    "if __name__ == \"__main__\":\n",
    "  mat = [[10, 20],\n",
    "         [30, 40],\n",
    "         [50, 60]]\n",
    "  printMatrix(mat)"
   ]
  },
  {
   "cell_type": "code",
   "execution_count": null,
   "metadata": {},
   "outputs": [],
   "source": []
  }
 ],
 "metadata": {
  "kernelspec": {
   "display_name": "venv",
   "language": "python",
   "name": "python3"
  },
  "language_info": {
   "codemirror_mode": {
    "name": "ipython",
    "version": 3
   },
   "file_extension": ".py",
   "mimetype": "text/x-python",
   "name": "python",
   "nbconvert_exporter": "python",
   "pygments_lexer": "ipython3",
   "version": "3.12.3"
  }
 },
 "nbformat": 4,
 "nbformat_minor": 2
}
