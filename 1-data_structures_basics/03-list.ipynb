{
 "cells": [
  {
   "cell_type": "markdown",
   "metadata": {},
   "source": [
    "## List in Python\n",
    "\n",
    "- `list` in python is a collection of items\n",
    "- is ordered and changeable/mutable\n",
    "- allows duplicate members\n",
    "- written with square brackets `[]`\n",
    "- can have items of different data types\n",
    "- indexing starts from 0\n",
    "- internally implemented as dynamic array\n",
    "- random access is possible in constant time, $O(1)$"
   ]
  },
  {
   "cell_type": "code",
   "execution_count": null,
   "metadata": {},
   "outputs": [
    {
     "name": "stdout",
     "output_type": "stream",
     "text": [
      "[10, 20, 30, 40, 50]\n",
      "40\n",
      "50\n",
      "40\n"
     ]
    }
   ],
   "source": [
    "l = [10, 20, 30, 40, 50]\n",
    "print(l)\n",
    "print(l[3])\n",
    "print(l[-1])\n",
    "print(l[-2])"
   ]
  },
  {
   "cell_type": "markdown",
   "metadata": {},
   "source": [
    "- `list.append(x)` : Add an item to the end of the list.\n",
    "- `list.count(x)` : Return the number of times x appears in the list.\n",
    "- `list.index(x)` : Return the index in the list of the first item whose value is x. Raises a ValueError if there is no such item.\n",
    "- `list.index(x, start, end)` : Return the index in the list of the first item whose value is x, within the slice `list[start:end]`. Raises a ValueError if there is no such item. `start` is _inclusive_ and `end` is _exclusive_.\n",
    "\n",
    "`in` operator is used to check if an element is present in the list or not. Returns `True` if the element is present in the list, `False` otherwise."
   ]
  },
  {
   "cell_type": "code",
   "execution_count": null,
   "metadata": {},
   "outputs": [
    {
     "name": "stdout",
     "output_type": "stream",
     "text": [
      "[10, 20, 30, 40, 50, 30]\n",
      "[10, 15, 20, 30, 40, 50, 30]\n",
      "True\n",
      "2\n",
      "3\n",
      "6\n"
     ]
    }
   ],
   "source": [
    "l = [10, 20, 30, 40, 50]\n",
    "l.append(30)\n",
    "print(l)\n",
    "l.insert(1, 15)\n",
    "print(l)\n",
    "print(15 in l)\n",
    "print(l.count(30))\n",
    "print(l.index(30))\n",
    "print(l.index(30, 4, 7))    # search for 30 in the list from index 4 to 6"
   ]
  },
  {
   "cell_type": "markdown",
   "metadata": {},
   "source": [
    "- `list.remove(x)` : Remove the first item from the list whose value is x. Raises a ValueError if there is no such item.\n",
    "- `list.pop(x)` : Remove the item at the given index in the list, and return it. If no index is specified, `list.pop()` removes and returns the last item in the list.\n",
    "- `del list[i]` : Remove the item at the given index in the list.\n",
    "- `del list[i:j]` : Remove the slice of items from the list. i is _inclusive_ and j is _exclusive_."
   ]
  },
  {
   "cell_type": "markdown",
   "metadata": {},
   "source": [
    "- `max(x)` : Return the largest item in an iterable or the largest of two or more arguments.\n",
    "- `min(x)` : Return the smallest item in an iterable or the smallest of two or more arguments.\n",
    "- `sum(x)` : Sums start and the items of an iterable from left to right and returns the total.\n",
    "- `list.reverse()` : Reverse the elements of the list in place.\n",
    "- `list.sort()` : Sort the items of the list in place, by default in ascending order. Use `reverse=True` for descending order."
   ]
  },
  {
   "cell_type": "markdown",
   "metadata": {},
   "source": [
    "## Internal Working of List in Python\n",
    "\n",
    "In Python, the `list` data structure is implemented as a dynamic array. A dynamic array is an array that grows or shrinks in size as needed. When the array is full, a new array is created with double the size of the original array, and the elements of the original array are copied to the new array. This process is called resizing.\n",
    "\n",
    "The elements of the `list` are stored in contiguous memory locations, which allows for random access to the elements in constant time, $O(1)$, but these elements are actually references to the objects stored in memory. This means that the elements of the `list` are not stored directly in the array, but rather references to the objects are stored in the array.\n",
    "\n",
    "When an element is added to the `list`, a reference to the object is stored in the array, and when an element is removed from the `list`, the reference to the object is removed from the array. This allows for efficient insertion and deletion of elements in the `list`, but it also means that the `list` can contain elements of different data types.\n",
    "\n",
    "### Advantages\n",
    "\n",
    "- random access is possible in constant time, $O(1)$\n",
    "- cache friendly, because elements are stored in contiguous memory locations\n",
    "\n",
    "### Disadvantages\n",
    "\n",
    "- insertion, deletion at arbitrary positions is costly, $O(n)$\n",
    "  - in set, insertion, deletion is $O(1)$\n",
    "- searching an element is costly, $O(n)$ for unsorted list and $O(\\log n)$ for sorted list\n",
    "  - in set, searching is $O(1)$"
   ]
  },
  {
   "cell_type": "markdown",
   "metadata": {},
   "source": [
    "### Amortized Time Complexity\n",
    "\n",
    "- Average time to append"
   ]
  }
 ],
 "metadata": {
  "language_info": {
   "name": "python"
  }
 },
 "nbformat": 4,
 "nbformat_minor": 2
}
